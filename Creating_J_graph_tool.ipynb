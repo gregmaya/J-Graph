{
  "nbformat": 4,
  "nbformat_minor": 0,
  "metadata": {
    "colab": {
      "name": "Creating J-graph tool.ipynb",
      "provenance": [],
      "authorship_tag": "ABX9TyO+MvKuLDdIPc9ctnLE7Qsp",
      "include_colab_link": true
    },
    "kernelspec": {
      "name": "python3",
      "display_name": "Python 3"
    },
    "language_info": {
      "name": "python"
    }
  },
  "cells": [
    {
      "cell_type": "markdown",
      "metadata": {
        "id": "view-in-github",
        "colab_type": "text"
      },
      "source": [
        "<a href=\"https://colab.research.google.com/github/gregmaya/J-Graph/blob/main/Creating_J_graph_tool.ipynb\" target=\"_parent\"><img src=\"https://colab.research.google.com/assets/colab-badge.svg\" alt=\"Open In Colab\"/></a>"
      ]
    },
    {
      "cell_type": "code",
      "metadata": {
        "id": "rwrVW367CfT1"
      },
      "source": [
        "#!pip install networkx[default]\n",
        "#!pip install numpy\n",
        "#!pip uninstall matplotlib\n",
        "#!pip install matplotlib==3.1.3"
      ],
      "execution_count": null,
      "outputs": []
    },
    {
      "cell_type": "code",
      "metadata": {
        "id": "CFrXQDu9_vUq"
      },
      "source": [
        "import networkx as nx\n",
        "import matplotlib.pyplot as plt\n",
        "import numpy as np\n",
        "from itertools import count\n",
        "import pandas as pd"
      ],
      "execution_count": 1,
      "outputs": []
    },
    {
      "cell_type": "markdown",
      "source": [
        "# Functions"
      ],
      "metadata": {
        "id": "OH_pFnyf2yGh"
      }
    },
    {
      "cell_type": "code",
      "source": [
        "def jgraph_from_node(G, origin):\n",
        "  \"\"\"\n",
        "  Draws the Justified graph (J-graph) from the selected origin.\n",
        "  Internally it calculates the shortest topological distance from every node \\\n",
        "  to the defined origin\n",
        "\n",
        "  RETURNS\n",
        "  ---\n",
        "  A visual representation of the JGraph\n",
        "  \"\"\"\n",
        "  nodes = G.nodes()\n",
        "  topo_steps = [nx.shortest_path_length(G, source=origin, target= n) for n in nodes]\n",
        "  d = [(n,{'steps':s}) for n,s in zip(nodes,topo_steps)]\n",
        "  \n",
        "  topo_steps = [nx.shortest_path_length(G, source=origin, target= n) for n in nodes]\n",
        "\n",
        "  d = [(n,{'steps':s}) for n,s in zip(nodes,topo_steps)]\n",
        "\n",
        "  G = nx.Graph()\n",
        "  G.add_edges_from(edges)\n",
        "  G.add_nodes_from(d)\n",
        "\n",
        "  pos = nx.multipartite_layout(G,subset_key='steps', align='horizontal',scale=1.75)\n",
        "  plt.figure(figsize=(10,10))\n",
        "  nx.draw(G ,pos=pos, \n",
        "          with_labels=True, \n",
        "          node_color='orange', node_size=800)\n",
        "\n",
        "  print('Mean depth = '+ str(round(sum(topo_steps)/len(topo_steps),2)))\n",
        "  print('Maximum topological steps = '+ str(max(topo_steps)))"
      ],
      "metadata": {
        "id": "fmbiLALs0bp5"
      },
      "execution_count": 10,
      "outputs": []
    },
    {
      "cell_type": "code",
      "source": [
        "def mean_depth_calcs(G,graph_output = False):\n",
        "  \"\"\"\n",
        "  needs description! \n",
        "  \"\"\"\n",
        "  #for loop to calculate all mean depths from all points\n",
        "  mean_depths = []\n",
        "  for n in nodes:\n",
        "    topo_steps = [nx.shortest_path_length(G, source=n, target= no) for no in nodes]\n",
        "    md = sum(topo_steps)/len(topo_steps)\n",
        "    mean_depths.append(md)\n",
        "  mean_depth = {n: md for n,md in zip(nodes,mean_depths)}\n",
        "\n",
        "  if graph_output == True :\n",
        "    nx.set_node_attributes(G,mean_depth,name='mean_depth')\n",
        "    output = G\n",
        "  else :\n",
        "    output = pd.DataFrame.from_dict(mean_depth,orient='index', columns=['mean_depth'])\n",
        "\n",
        "  return output"
      ],
      "metadata": {
        "id": "ojObNxqa6RXq"
      },
      "execution_count": 22,
      "outputs": []
    },
    {
      "cell_type": "markdown",
      "source": [
        "# Examples"
      ],
      "metadata": {
        "id": "KzrvERnx23RE"
      }
    },
    {
      "cell_type": "code",
      "metadata": {
        "id": "BOC_go7lrDks"
      },
      "source": [
        "#Casa Rio Frio Salmona\n",
        "edges = [('M','L'),('L','K'),('K','Q'),('O','Q'),('Q','P'),('N','Q'),\n",
        "         ('Q','C'),('C','E'),('T','R'),('S','R'),('J','B'),('J','F'),\n",
        "         ('B','R'),('B','C'),('B','A'),('R','D'),('C','D'),('C','D'),\n",
        "         ('C','F'),('G','H'),('G','F'),('F','I'),('A','X'),('D','H'),\n",
        "         ('D','X'),('H','X'),('I','X')]"
      ],
      "execution_count": 23,
      "outputs": []
    },
    {
      "cell_type": "code",
      "metadata": {
        "colab": {
          "base_uri": "https://localhost:8080/",
          "height": 751
        },
        "id": "OvYoJ8lUBnG4",
        "outputId": "7a44b2e5-104e-4409-b2f2-42dcd55736bb"
      },
      "source": [
        "G = nx.Graph()\n",
        "G.add_edges_from(edges)\n",
        "#nodes = G.nodes()\n",
        "\n",
        "plt.figure(figsize=(10,10))\n",
        "nx.draw(G, with_labels = True, node_color ='orange')"
      ],
      "execution_count": 24,
      "outputs": [
        {
          "output_type": "display_data",
          "data": {
            "text/plain": [
              "<Figure size 720x720 with 1 Axes>"
            ],
            "image/png": "[encoded data removed]"
          },
          "metadata": {}
        }
      ]
    },
    {
      "cell_type": "code",
      "source": [
        "jgraph_from_node(G,'C')"
      ],
      "metadata": {
        "id": "fnAgHa6I2cio",
        "outputId": "fe45f41a-b2df-4545-9f1d-9450790d0591",
        "colab": {
          "base_uri": "https://localhost:8080/",
          "height": 786
        }
      },
      "execution_count": 25,
      "outputs": [
        {
          "output_type": "stream",
          "name": "stdout",
          "text": [
            "Mean depth = 1.9\n",
            "Maximum topological steps = 4\n"
          ]
        },
        {
          "output_type": "display_data",
          "data": {
            "text/plain": [
              "<Figure size 720x720 with 1 Axes>"
            ],
            "image/png": "[encoded data removed]"
          },
          "metadata": {}
        }
      ]
    },
    {
      "cell_type": "code",
      "source": [
        "df = mean_depth_calcs(G)\n",
        "df"
      ],
      "metadata": {
        "id": "kz6VkPg06Tmt",
        "outputId": "d3bc672d-dd97-44a2-dcdf-de5acb1d2eee",
        "colab": {
          "base_uri": "https://localhost:8080/",
          "height": 708
        }
      },
      "execution_count": 26,
      "outputs": [
        {
          "output_type": "execute_result",
          "data": {
            "text/plain": [
              "   mean_depth\n",
              "M    4.666667\n",
              "L    3.761905\n",
              "K    2.952381\n",
              "Q    2.238095\n",
              "O    3.142857\n",
              "P    3.142857\n",
              "N    3.142857\n",
              "C    1.904762\n",
              "E    2.809524\n",
              "T    3.571429\n",
              "R    2.666667\n",
              "S    3.571429\n",
              "J    2.857143\n",
              "B    2.285714\n",
              "F    2.428571\n",
              "A    2.809524\n",
              "D    2.190476\n",
              "G    2.952381\n",
              "H    2.761905\n",
              "I    2.904762\n",
              "X    2.666667"
            ],
            "text/html": [
              "\n",
              "  <div id=\"df-83a85b22-5a0f-4e5d-9037-8f8924ac1c6d\">\n",
              "    <div class=\"colab-df-container\">\n",
              "      <div>\n",
              "<style scoped>\n",
              "    .dataframe tbody tr th:only-of-type {\n",
              "        vertical-align: middle;\n",
              "    }\n",
              "\n",
              "    .dataframe tbody tr th {\n",
              "        vertical-align: top;\n",
              "    }\n",
              "\n",
              "    .dataframe thead th {\n",
              "        text-align: right;\n",
              "    }\n",
              "</style>\n",
              "<table border=\"1\" class=\"dataframe\">\n",
              "  <thead>\n",
              "    <tr style=\"text-align: right;\">\n",
              "      <th></th>\n",
              "      <th>mean_depth</th>\n",
              "    </tr>\n",
              "  </thead>\n",
              "  <tbody>\n",
              "    <tr>\n",
              "      <th>M</th>\n",
              "      <td>4.666667</td>\n",
              "    </tr>\n",
              "    <tr>\n",
              "      <th>L</th>\n",
              "      <td>3.761905</td>\n",
              "    </tr>\n",
              "    <tr>\n",
              "      <th>K</th>\n",
              "      <td>2.952381</td>\n",
              "    </tr>\n",
              "    <tr>\n",
              "      <th>Q</th>\n",
              "      <td>2.238095</td>\n",
              "    </tr>\n",
              "    <tr>\n",
              "      <th>O</th>\n",
              "      <td>3.142857</td>\n",
              "    </tr>\n",
              "    <tr>\n",
              "      <th>P</th>\n",
              "      <td>3.142857</td>\n",
              "    </tr>\n",
              "    <tr>\n",
              "      <th>N</th>\n",
              "      <td>3.142857</td>\n",
              "    </tr>\n",
              "    <tr>\n",
              "      <th>C</th>\n",
              "      <td>1.904762</td>\n",
              "    </tr>\n",
              "    <tr>\n",
              "      <th>E</th>\n",
              "      <td>2.809524</td>\n",
              "    </tr>\n",
              "    <tr>\n",
              "      <th>T</th>\n",
              "      <td>3.571429</td>\n",
              "    </tr>\n",
              "    <tr>\n",
              "      <th>R</th>\n",
              "      <td>2.666667</td>\n",
              "    </tr>\n",
              "    <tr>\n",
              "      <th>S</th>\n",
              "      <td>3.571429</td>\n",
              "    </tr>\n",
              "    <tr>\n",
              "      <th>J</th>\n",
              "      <td>2.857143</td>\n",
              "    </tr>\n",
              "    <tr>\n",
              "      <th>B</th>\n",
              "      <td>2.285714</td>\n",
              "    </tr>\n",
              "    <tr>\n",
              "      <th>F</th>\n",
              "      <td>2.428571</td>\n",
              "    </tr>\n",
              "    <tr>\n",
              "      <th>A</th>\n",
              "      <td>2.809524</td>\n",
              "    </tr>\n",
              "    <tr>\n",
              "      <th>D</th>\n",
              "      <td>2.190476</td>\n",
              "    </tr>\n",
              "    <tr>\n",
              "      <th>G</th>\n",
              "      <td>2.952381</td>\n",
              "    </tr>\n",
              "    <tr>\n",
              "      <th>H</th>\n",
              "      <td>2.761905</td>\n",
              "    </tr>\n",
              "    <tr>\n",
              "      <th>I</th>\n",
              "      <td>2.904762</td>\n",
              "    </tr>\n",
              "    <tr>\n",
              "      <th>X</th>\n",
              "      <td>2.666667</td>\n",
              "    </tr>\n",
              "  </tbody>\n",
              "</table>\n",
              "</div>\n",
              "      <button class=\"colab-df-convert\" onclick=\"convertToInteractive('df-83a85b22-5a0f-4e5d-9037-8f8924ac1c6d')\"\n",
              "              title=\"Convert this dataframe to an interactive table.\"\n",
              "              style=\"display:none;\">\n",
              "        \n",
              "  <svg xmlns=\"http://www.w3.org/2000/svg\" height=\"24px\"viewBox=\"0 0 24 24\"\n",
              "       width=\"24px\">\n",
              "    <path d=\"M0 0h24v24H0V0z\" fill=\"none\"/>\n",
              "    <path d=\"M18.56 5.44l.94 2.06.94-2.06 2.06-.94-2.06-.94-.94-2.06-.94 2.06-2.06.94zm-11 1L8.5 8.5l.94-2.06 2.06-.94-2.06-.94L8.5 2.5l-.94 2.06-2.06.94zm10 10l.94 2.06.94-2.06 2.06-.94-2.06-.94-.94-2.06-.94 2.06-2.06.94z\"/><path d=\"M17.41 7.96l-1.37-1.37c-.4-.4-.92-.59-1.43-.59-.52 0-1.04.2-1.43.59L10.3 9.45l-7.72 7.72c-.78.78-.78 2.05 0 2.83L4 21.41c.39.39.9.59 1.41.59.51 0 1.02-.2 1.41-.59l7.78-7.78 2.81-2.81c.8-.78.8-2.07 0-2.86zM5.41 20L4 18.59l7.72-7.72 1.47 1.35L5.41 20z\"/>\n",
              "  </svg>\n",
              "      </button>\n",
              "      \n",
              "  <style>\n",
              "    .colab-df-container {\n",
              "      display:flex;\n",
              "      flex-wrap:wrap;\n",
              "      gap: 12px;\n",
              "    }\n",
              "\n",
              "    .colab-df-convert {\n",
              "      background-color: #E8F0FE;\n",
              "      border: none;\n",
              "      border-radius: 50%;\n",
              "      cursor: pointer;\n",
              "      display: none;\n",
              "      fill: #1967D2;\n",
              "      height: 32px;\n",
              "      padding: 0 0 0 0;\n",
              "      width: 32px;\n",
              "    }\n",
              "\n",
              "    .colab-df-convert:hover {\n",
              "      background-color: #E2EBFA;\n",
              "      box-shadow: 0px 1px 2px rgba(60, 64, 67, 0.3), 0px 1px 3px 1px rgba(60, 64, 67, 0.15);\n",
              "      fill: #174EA6;\n",
              "    }\n",
              "\n",
              "    [theme=dark] .colab-df-convert {\n",
              "      background-color: #3B4455;\n",
              "      fill: #D2E3FC;\n",
              "    }\n",
              "\n",
              "    [theme=dark] .colab-df-convert:hover {\n",
              "      background-color: #434B5C;\n",
              "      box-shadow: 0px 1px 3px 1px rgba(0, 0, 0, 0.15);\n",
              "      filter: drop-shadow(0px 1px 2px rgba(0, 0, 0, 0.3));\n",
              "      fill: #FFFFFF;\n",
              "    }\n",
              "  </style>\n",
              "\n",
              "      <script>\n",
              "        const buttonEl =\n",
              "          document.querySelector('#df-83a85b22-5a0f-4e5d-9037-8f8924ac1c6d button.colab-df-convert');\n",
              "        buttonEl.style.display =\n",
              "          google.colab.kernel.accessAllowed ? 'block' : 'none';\n",
              "\n",
              "        async function convertToInteractive(key) {\n",
              "          const element = document.querySelector('#df-83a85b22-5a0f-4e5d-9037-8f8924ac1c6d');\n",
              "          const dataTable =\n",
              "            await google.colab.kernel.invokeFunction('convertToInteractive',\n",
              "                                                     [key], {});\n",
              "          if (!dataTable) return;\n",
              "\n",
              "          const docLinkHtml = 'Like what you see? Visit the ' +\n",
              "            '<a target=\"_blank\" href=https://colab.research.google.com/notebooks/data_table.ipynb>data table notebook</a>'\n",
              "            + ' to learn more about interactive tables.';\n",
              "          element.innerHTML = '';\n",
              "          dataTable['output_type'] = 'display_data';\n",
              "          await google.colab.output.renderOutput(dataTable, element);\n",
              "          const docLink = document.createElement('div');\n",
              "          docLink.innerHTML = docLinkHtml;\n",
              "          element.appendChild(docLink);\n",
              "        }\n",
              "      </script>\n",
              "    </div>\n",
              "  </div>\n",
              "  "
            ]
          },
          "metadata": {},
          "execution_count": 26
        }
      ]
    },
    {
      "cell_type": "markdown",
      "source": [
        "# needs updating"
      ],
      "metadata": {
        "id": "tB5h9q1h7g9u"
      }
    },
    {
      "cell_type": "code",
      "metadata": {
        "colab": {
          "base_uri": "https://localhost:8080/",
          "height": 206
        },
        "id": "xjaCJzTLcwe4",
        "outputId": "e8981236-9b13-4473-dd25-7176a781b7db"
      },
      "source": [
        "clm_name = 'stps_'+ origin\n",
        "depth_df[clm_name] = topo_steps\n",
        "\n",
        "#depth_df.to_csv(path_or_buf='/content/sample_data/network_depth.csv')\n",
        "depth_df.head()"
      ],
      "execution_count": 12,
      "outputs": [
        {
          "output_type": "execute_result",
          "data": {
            "text/plain": [
              "   mean_depth  stps_A\n",
              "M    4.666667       6\n",
              "L    3.761905       5\n",
              "K    2.952381       4\n",
              "Q    2.238095       3\n",
              "O    3.142857       4"
            ],
            "text/html": [
              "\n",
              "  <div id=\"df-5200ca7c-af53-41cc-b1af-fe99bb337ebb\">\n",
              "    <div class=\"colab-df-container\">\n",
              "      <div>\n",
              "<style scoped>\n",
              "    .dataframe tbody tr th:only-of-type {\n",
              "        vertical-align: middle;\n",
              "    }\n",
              "\n",
              "    .dataframe tbody tr th {\n",
              "        vertical-align: top;\n",
              "    }\n",
              "\n",
              "    .dataframe thead th {\n",
              "        text-align: right;\n",
              "    }\n",
              "</style>\n",
              "<table border=\"1\" class=\"dataframe\">\n",
              "  <thead>\n",
              "    <tr style=\"text-align: right;\">\n",
              "      <th></th>\n",
              "      <th>mean_depth</th>\n",
              "      <th>stps_A</th>\n",
              "    </tr>\n",
              "  </thead>\n",
              "  <tbody>\n",
              "    <tr>\n",
              "      <th>M</th>\n",
              "      <td>4.666667</td>\n",
              "      <td>6</td>\n",
              "    </tr>\n",
              "    <tr>\n",
              "      <th>L</th>\n",
              "      <td>3.761905</td>\n",
              "      <td>5</td>\n",
              "    </tr>\n",
              "    <tr>\n",
              "      <th>K</th>\n",
              "      <td>2.952381</td>\n",
              "      <td>4</td>\n",
              "    </tr>\n",
              "    <tr>\n",
              "      <th>Q</th>\n",
              "      <td>2.238095</td>\n",
              "      <td>3</td>\n",
              "    </tr>\n",
              "    <tr>\n",
              "      <th>O</th>\n",
              "      <td>3.142857</td>\n",
              "      <td>4</td>\n",
              "    </tr>\n",
              "  </tbody>\n",
              "</table>\n",
              "</div>\n",
              "      <button class=\"colab-df-convert\" onclick=\"convertToInteractive('df-5200ca7c-af53-41cc-b1af-fe99bb337ebb')\"\n",
              "              title=\"Convert this dataframe to an interactive table.\"\n",
              "              style=\"display:none;\">\n",
              "        \n",
              "  <svg xmlns=\"http://www.w3.org/2000/svg\" height=\"24px\"viewBox=\"0 0 24 24\"\n",
              "       width=\"24px\">\n",
              "    <path d=\"M0 0h24v24H0V0z\" fill=\"none\"/>\n",
              "    <path d=\"M18.56 5.44l.94 2.06.94-2.06 2.06-.94-2.06-.94-.94-2.06-.94 2.06-2.06.94zm-11 1L8.5 8.5l.94-2.06 2.06-.94-2.06-.94L8.5 2.5l-.94 2.06-2.06.94zm10 10l.94 2.06.94-2.06 2.06-.94-2.06-.94-.94-2.06-.94 2.06-2.06.94z\"/><path d=\"M17.41 7.96l-1.37-1.37c-.4-.4-.92-.59-1.43-.59-.52 0-1.04.2-1.43.59L10.3 9.45l-7.72 7.72c-.78.78-.78 2.05 0 2.83L4 21.41c.39.39.9.59 1.41.59.51 0 1.02-.2 1.41-.59l7.78-7.78 2.81-2.81c.8-.78.8-2.07 0-2.86zM5.41 20L4 18.59l7.72-7.72 1.47 1.35L5.41 20z\"/>\n",
              "  </svg>\n",
              "      </button>\n",
              "      \n",
              "  <style>\n",
              "    .colab-df-container {\n",
              "      display:flex;\n",
              "      flex-wrap:wrap;\n",
              "      gap: 12px;\n",
              "    }\n",
              "\n",
              "    .colab-df-convert {\n",
              "      background-color: #E8F0FE;\n",
              "      border: none;\n",
              "      border-radius: 50%;\n",
              "      cursor: pointer;\n",
              "      display: none;\n",
              "      fill: #1967D2;\n",
              "      height: 32px;\n",
              "      padding: 0 0 0 0;\n",
              "      width: 32px;\n",
              "    }\n",
              "\n",
              "    .colab-df-convert:hover {\n",
              "      background-color: #E2EBFA;\n",
              "      box-shadow: 0px 1px 2px rgba(60, 64, 67, 0.3), 0px 1px 3px 1px rgba(60, 64, 67, 0.15);\n",
              "      fill: #174EA6;\n",
              "    }\n",
              "\n",
              "    [theme=dark] .colab-df-convert {\n",
              "      background-color: #3B4455;\n",
              "      fill: #D2E3FC;\n",
              "    }\n",
              "\n",
              "    [theme=dark] .colab-df-convert:hover {\n",
              "      background-color: #434B5C;\n",
              "      box-shadow: 0px 1px 3px 1px rgba(0, 0, 0, 0.15);\n",
              "      filter: drop-shadow(0px 1px 2px rgba(0, 0, 0, 0.3));\n",
              "      fill: #FFFFFF;\n",
              "    }\n",
              "  </style>\n",
              "\n",
              "      <script>\n",
              "        const buttonEl =\n",
              "          document.querySelector('#df-5200ca7c-af53-41cc-b1af-fe99bb337ebb button.colab-df-convert');\n",
              "        buttonEl.style.display =\n",
              "          google.colab.kernel.accessAllowed ? 'block' : 'none';\n",
              "\n",
              "        async function convertToInteractive(key) {\n",
              "          const element = document.querySelector('#df-5200ca7c-af53-41cc-b1af-fe99bb337ebb');\n",
              "          const dataTable =\n",
              "            await google.colab.kernel.invokeFunction('convertToInteractive',\n",
              "                                                     [key], {});\n",
              "          if (!dataTable) return;\n",
              "\n",
              "          const docLinkHtml = 'Like what you see? Visit the ' +\n",
              "            '<a target=\"_blank\" href=https://colab.research.google.com/notebooks/data_table.ipynb>data table notebook</a>'\n",
              "            + ' to learn more about interactive tables.';\n",
              "          element.innerHTML = '';\n",
              "          dataTable['output_type'] = 'display_data';\n",
              "          await google.colab.output.renderOutput(dataTable, element);\n",
              "          const docLink = document.createElement('div');\n",
              "          docLink.innerHTML = docLinkHtml;\n",
              "          element.appendChild(docLink);\n",
              "        }\n",
              "      </script>\n",
              "    </div>\n",
              "  </div>\n",
              "  "
            ]
          },
          "metadata": {},
          "execution_count": 12
        }
      ]
    },
    {
      "cell_type": "markdown",
      "source": [
        "# New section"
      ],
      "metadata": {
        "id": "SnyUI2iIay_q"
      }
    },
    {
      "cell_type": "code",
      "metadata": {
        "colab": {
          "base_uri": "https://localhost:8080/",
          "height": 584
        },
        "id": "Q3tGbD5egt2x",
        "outputId": "d496d5dc-d9f9-4f09-db7e-b5a093c5d39e"
      },
      "source": [
        "# create number for each group to allow use of colormap\n",
        "groups = set(nx.get_node_attributes(G,'mean_depth').values())\n",
        "mapping = dict(zip(sorted(groups),count()))\n",
        "nodes = G.nodes()\n",
        "# get unique groups\n",
        "groups = set(nx.get_node_attributes(G,'mean_depth').values())\n",
        "mapping = dict(zip(sorted(groups),count()))\n",
        "nodes = G.nodes()\n",
        "colors = [mapping[G.nodes[n]['mean_depth']] for n in nodes]\n",
        "\n",
        "# drawing nodes and edges separately so we can capture collection for colorbar\n",
        "pos = nx.spring_layout(G)\n",
        "plt.figure(figsize=(10,10))\n",
        "ec = nx.draw_networkx_edges(G, pos, alpha=0.2)\n",
        "nc = nx.draw_networkx_nodes(G, pos, nodelist=nodes, node_color=colors,\n",
        "                            node_size=800, cmap=plt.cm.Spectral) #YlGnBu\n",
        "\n",
        "# NEEEDS TO LOOP OVER EACH VERTEX\n",
        "#plt.annotate(label, # this is the text\n",
        "#                 (x,y), # these are the coordinates to position the label\n",
        "#                 textcoords=\"offset points\", # how to position the text\n",
        "#                 xytext=(0,-10), # distance from text to points (x,y)\n",
        "#                 ha='center')\n",
        "\n",
        "\n",
        "plt.colorbar(nc)\n",
        "plt.axis('off')\n",
        "plt.show()"
      ],
      "execution_count": null,
      "outputs": [
        {
          "output_type": "display_data",
          "data": {
            "text/plain": [
              "<Figure size 720x720 with 2 Axes>"
            ],
            "image/png": "[encoded data removed]"
          },
          "metadata": {
            "needs_background": "light"
          }
        }
      ]
    }
  ]
}